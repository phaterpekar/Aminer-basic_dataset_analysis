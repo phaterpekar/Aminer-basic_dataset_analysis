{
 "cells": [
  {
   "cell_type": "markdown",
   "metadata": {},
   "source": [
    "\n",
    " ## Problem 1:  Aminer : basic dataset analysis\n"
   ]
  },
  {
   "cell_type": "markdown",
   "metadata": {},
   "source": [
    "#### A. Compute the number of distinct authors, publication venues, publications, and citations/references\n"
   ]
  },
  {
   "cell_type": "code",
   "execution_count": 1,
   "metadata": {
    "collapsed": true
   },
   "outputs": [],
   "source": [
    "authors = set()\n",
    "venues = set()\n",
    "publications = set()\n",
    "citations = set()\n",
    "index = \"\""
   ]
  },
  {
   "cell_type": "code",
   "execution_count": 2,
   "metadata": {},
   "outputs": [
    {
     "name": "stdout",
     "output_type": "stream",
     "text": [
      "Total number of Distinct Authors 1478734\n",
      "Total number of Venues 255686\n",
      "Total number of Publications 1976815\n",
      "Total number of Citations/Referenes 7250326\n"
     ]
    }
   ],
   "source": [
    "with open(\"C:\\\\Unsupervised\\\\HW1\\AP_train.txt\", 'r+', newline='', encoding=\"utf8\") as file:\n",
    "    for line in file:        \n",
    "        if line.startswith(\"#index\"):\n",
    "            index = line[7:]\n",
    "            publications.add(line)        \n",
    "        elif line.startswith(\"#@\"):            \n",
    "            for auth in line[3:].split(\";\"):\n",
    "                 authors.add(auth.strip())\n",
    "        elif line.startswith(\"#c\"):\n",
    "            venues.add(line)\n",
    "        elif line.startswith(\"#%\"):                            \n",
    "            citations.add(index+line)\n",
    "\n",
    "\n",
    "print(\"Total number of Distinct Authors :-\" , len(authors))\n",
    "print(\"Total number of Venues:-\" , len(venues))\n",
    "print(\"Total number of Publications:-\" , len(publications))\n",
    "print(\"Total number of Citations/Referenes:-\" , len(citations))\n"
   ]
  },
  {
   "cell_type": "markdown",
   "metadata": {
    "collapsed": true
   },
   "source": [
    "#### B. Are these numbers likely to be accurate? As an example look up all the publications venue names associated with the conference “Principles and Practice of Knowledge Discovery in Databases”13 – what do you notice?\n"
   ]
  },
  {
   "cell_type": "code",
   "execution_count": 3,
   "metadata": {},
   "outputs": [
    {
     "name": "stdout",
     "output_type": "stream",
     "text": [
      "Venues lists are \n",
      "Knowledge Discovery in Databases: PKDD 2006: 10th European Conference on Principles and Practice of Knowledge Discovery in Databases, Berlin, Germany, September ... (Lecture Notes in Computer Science)\n",
      "\n",
      "PKDD 2007 Proceedings of the 11th European conference on Principles and Practice of Knowledge Discovery in Databases\n",
      "\n",
      "PKDD'05 Proceedings of the 9th European conference on Principles and Practice of Knowledge Discovery in Databases\n",
      "\n",
      "Knowledge Discovery in Databases: PKDD 2005: 9th European Conference on Principles and Practice of Knowledge Discovery in Databases, Porto, Portugal, October ... / Lecture Notes in Artificial Intelligence)\n",
      "\n",
      "PKDD '04 Proceedings of the 8th European Conference on Principles and Practice of Knowledge Discovery in Databases\n",
      "\n"
     ]
    }
   ],
   "source": [
    "venue_set = set()\n",
    "\n",
    "with open(\"C:\\\\Unsupervised\\\\HW1\\AP_train.txt\",'r', newline='', encoding=\"utf8\") as apfile:       \n",
    "    index = \"\"\n",
    "    venue = \"\"\n",
    "    for row in apfile:\n",
    "        if row.startswith(\"#c\"):\n",
    "            if \"Principles and Practice of Knowledge Discovery in Databases\" in row:\n",
    "                venue = row[3:]\n",
    "                venue_set.add(venue)\n",
    "\n",
    "print(\"Venues lists are \")\n",
    "for venue in venue_set:            \n",
    "    print(venue)\n",
    "    "
   ]
  },
  {
   "cell_type": "markdown",
   "metadata": {
    "collapsed": true
   },
   "source": [
    "The Count numbers don't seem accurate. For the same conference, we can see that the venues have different names. While a different publication don't have the same names. This will increase our count of venues than the true count as it is not consistent.\n"
   ]
  },
  {
   "cell_type": "markdown",
   "metadata": {
    "collapsed": true
   },
   "source": [
    "#### C. For each author, construct the list of publications. Plot a histogram of the number of publications per author (use a logarithmic scale on the y axis)\n"
   ]
  },
  {
   "cell_type": "code",
   "execution_count": 12,
   "metadata": {},
   "outputs": [
    {
     "data": {
      "image/png": "[encoded data removed]",
      "text/plain": [
       "<matplotlib.figure.Figure at 0x1761038ff60>"
      ]
     },
     "metadata": {},
     "output_type": "display_data"
    }
   ],
   "source": [
    "author_publs = {}\n",
    "# We will consider each Citation as one.\n",
    "with open(\"C:\\\\Unsupervised\\\\HW1\\AP_train.txt\",\"r\",newline = \"\",encoding=\"utf8\") as infile:\n",
    "        for line in infile:\n",
    "            if line.startswith(\"#@\"):\n",
    "                for auth in line[3:].split(\";\"):\n",
    "                    if author_publs.get(auth.strip()) == None:\n",
    "                        author_publs[auth.strip()] = 1\n",
    "                    else:\n",
    "                        author_publs[auth.strip()]  += 1\n",
    "                    \n",
    "authors = list(author_publs.keys())\n",
    "publications = list(author_publs.values())\n",
    "\n",
    "# We will remove values for null author and it's respective publication counts.\n",
    "index = authors.index(\"\")\n",
    "del authors[index]\n",
    "del publications[index]\n",
    "\n",
    "import math\n",
    "import matplotlib.mlab as mlab\n",
    "import matplotlib.pyplot as plt\n",
    "\n",
    "plt.xlabel('Authors')\n",
    "plt.ylabel('No. of Publications')\n",
    "plt.title('Publications per author')\n",
    "plt.hist(publications,bins=50,log=True)\n",
    "plt.show()\n"
   ]
  },
  {
   "cell_type": "markdown",
   "metadata": {},
   "source": [
    "#### D. Calculate the mean and standard deviation of the number of publications per author. Also calculate the Q1 (1st quartile14), Q2 (2nd quartile, or median) and Q3 (3rd quartile) values. Compare the median to the mean and explain the difference between the two values based on the standard deviation and the 1st and 3rd quartiles."
   ]
  },
  {
   "cell_type": "code",
   "execution_count": 13,
   "metadata": {},
   "outputs": [
    {
     "name": "stdout",
     "output_type": "stream",
     "text": [
      "Mean: 3.29178560295\n",
      "Standard Deviation: 8.87188969104\n",
      "1st Quartile: 1.0\n",
      "Median: 1.0\n",
      "3rd Quartile: 2.0\n"
     ]
    }
   ],
   "source": [
    "import numpy as np\n",
    "print(\"Mean:\",np.mean(publications))\n",
    "print(\"Standard Deviation:\",np.std(publications))\n",
    "print(\"1st Quartile:\",np.percentile(publications,25))\n",
    "print(\"Median:\",np.percentile(publications,50))\n",
    "print(\"3rd Quartile:\",np.percentile(publications,75))"
   ]
  },
  {
   "cell_type": "markdown",
   "metadata": {},
   "source": [
    "Majority of authors have one publications as both the first quartile & median values are 1. The distribution is also skewed to the right."
   ]
  },
  {
   "cell_type": "markdown",
   "metadata": {},
   "source": [
    "#### E. Now plot a histogram of the number of publications per venue, as well as calculate the mean, standard deviation, median, Q1, and Q3 values. What is the venue with the largest number of publications in the dataset?"
   ]
  },
  {
   "cell_type": "code",
   "execution_count": 14,
   "metadata": {},
   "outputs": [
    {
     "data": {
      "image/png": "[encoded data removed]",
      "text/plain": [
       "<matplotlib.figure.Figure at 0x176639760f0>"
      ]
     },
     "metadata": {},
     "output_type": "display_data"
    }
   ],
   "source": [
    "venues_pubs = {}\n",
    "with open(\"C:\\\\Unsupervised\\\\HW1\\AP_train.txt\",\"r\",newline = \"\",encoding=\"utf8\") as infile:\n",
    "        for line in infile:\n",
    "            if line.startswith(\"#c\"):\n",
    "                if venues_pubs.get(line[3:]) == None:\n",
    "                    venues_pubs[line[3:]] = 1\n",
    "                else:\n",
    "                    venues_pubs[line[3:]]  += 1\n",
    "                    \n",
    "venues = list(venues_pubs.keys())\n",
    "v_publications = list(venues_pubs.values())\n",
    "\n",
    "plt.xlabel('Venues')\n",
    "plt.ylabel('No. of Publications')\n",
    "plt.title('Histogram of Publications per venues')\n",
    "plt.hist(v_publications,bins=50,log = True)\n",
    "plt.show()"
   ]
  },
  {
   "cell_type": "code",
   "execution_count": 20,
   "metadata": {},
   "outputs": [
    {
     "name": "stdout",
     "output_type": "stream",
     "text": [
      "Venue with largest no. of publications: IEEE Transactions on Information Theory\n",
      "\n"
     ]
    }
   ],
   "source": [
    "#### Finding the venue with largest number of publications in the dataset\n",
    "print(\"Venue with largest no. of publications:\",venues[list(venues_pubs.values()).index(max(venues_pubs.values()))])"
   ]
  },
  {
   "cell_type": "markdown",
   "metadata": {},
   "source": [
    "#### F. Plot a histogram of the number of references (number of publications a publication refers to) and citations (number of publications referring to a publication) per publication. What is the publication with the largest number of references? What is the publication with the largest number of citations? Do these make sense?"
   ]
  },
  {
   "cell_type": "code",
   "execution_count": 24,
   "metadata": {},
   "outputs": [
    {
     "name": "stdout",
     "output_type": "stream",
     "text": [
      "Publication index, maximum references: 719353 772\n",
      "Publication index,  maximum citations: 408396 7753\n"
     ]
    }
   ],
   "source": [
    "ref ={}\n",
    "pubs = {}\n",
    "cite = {}\n",
    "cite_venue_count = {}\n",
    "cite_venue = {}\n",
    "pubs = {} # publication name\n",
    "\n",
    "with open(\"C:\\\\Unsupervised\\\\HW1\\AP_train.txt\",\"r\",newline = \"\",encoding=\"utf8\") as infile:   \n",
    "    index = 0\n",
    "    for line in infile:\n",
    "        if line.startswith(\"#index\"):\n",
    "            index = int(line[7:])\n",
    "        elif line.startswith(\"#c\"):\n",
    "            venue = line[3:]\n",
    "            if pubs.get(index) == None:\n",
    "                pubs[index] = venue\n",
    "        elif line.startswith(\"#%\"):\n",
    "            if ref.get(index) == None:\n",
    "                ref[index] = 1\n",
    "            else :\n",
    "                ref[index] += 1\n",
    "                \n",
    "            if cite.get(int(line[3:])) == None:\n",
    "                cite[int(line[3:])] = 1\n",
    "            else:\n",
    "                cite[int(line[3:])]  += 1 \n",
    "            \n",
    "            cite_venue = pubs.get(int(line[3:]))\n",
    "            \n",
    "            if cite_venue_count.get(cite_venue) == None:\n",
    "                cite_venue_count[cite_venue] = 1\n",
    "            else:\n",
    "                cite_venue_count[cite_venue] += 1\n",
    "\n",
    "print(\"Publication index, maximum references:\" , list(ref.keys())[list(ref.values()).index(max(list(ref.values())))] ,max(list(ref.values())))\n",
    "print(\"Publication index,  maximum citations:\" , list(cite.keys())[list(cite.values()).index(max(list(cite.values())))] ,max(list(cite.values())))       \n",
    "\n"
   ]
  },
  {
   "cell_type": "code",
   "execution_count": 25,
   "metadata": {},
   "outputs": [
    {
     "data": {
      "image/png": "[encoded data removed]",
      "text/plain": [
       "<matplotlib.figure.Figure at 0x176026be2e8>"
      ]
     },
     "metadata": {},
     "output_type": "display_data"
    }
   ],
   "source": [
    "plt.title('Histogram of References')\n",
    "plt.hist(list(ref.values()),bins=25,log=True)\n",
    "plt.show()"
   ]
  },
  {
   "cell_type": "code",
   "execution_count": 26,
   "metadata": {},
   "outputs": [
    {
     "data": {
      "image/png": "[encoded data removed]",
      "text/plain": [
       "<matplotlib.figure.Figure at 0x176510ea4e0>"
      ]
     },
     "metadata": {},
     "output_type": "display_data"
    }
   ],
   "source": [
    "plt.title('Histogram of Citations')\n",
    "plt.hist(list(cite.values()),bins=25,log=True)\n",
    "plt.show()"
   ]
  },
  {
   "cell_type": "code",
   "execution_count": null,
   "metadata": {
    "collapsed": true
   },
   "outputs": [],
   "source": []
  },
  {
   "cell_type": "markdown",
   "metadata": {},
   "source": [
    "#### G. Calculate the so called “impact” factor for each venue. To do so, calculate the total number of citations for the publications in the venue, and then divide this number by the number of publications for the venue. Plot a histogram of the results"
   ]
  },
  {
   "cell_type": "code",
   "execution_count": 27,
   "metadata": {
    "collapsed": true
   },
   "outputs": [],
   "source": [
    "venue_impact = {}\n",
    "for ven in cite_venue_count.keys():   \n",
    "    venue_impact[ven] = 0    \n",
    "    if venue != 'None' and venues_pubs.get(ven) != None :\n",
    "        venue_impact[ven] = cite_venue_count[ven]/venues_pubs[ven]"
   ]
  },
  {
   "cell_type": "code",
   "execution_count": 28,
   "metadata": {},
   "outputs": [
    {
     "data": {
      "image/png": "[encoded data removed]",
      "text/plain": [
       "<matplotlib.figure.Figure at 0x1765111dc18>"
      ]
     },
     "metadata": {},
     "output_type": "display_data"
    }
   ],
   "source": [
    "plt.title('Histogram of Impact Factor')\n",
    "plt.hist(list(venue_impact.values()),bins=25,log= True)\n",
    "plt.show()"
   ]
  },
  {
   "cell_type": "markdown",
   "metadata": {},
   "source": [
    "#### H. What is the venue with the highest apparent impact factor? Do you believe this number?(http://mdanderson.libanswers.com/faq/26159)"
   ]
  },
  {
   "cell_type": "code",
   "execution_count": 29,
   "metadata": {},
   "outputs": [
    {
     "data": {
      "text/plain": [
       "'Computers and Intractability: A Guide to the Theory of NP-Completeness\\n'"
      ]
     },
     "execution_count": 29,
     "metadata": {},
     "output_type": "execute_result"
    }
   ],
   "source": [
    "list(venue_impact.keys())[list(venue_impact.values()).index(max(list(venue_impact.values())))]"
   ]
  },
  {
   "cell_type": "markdown",
   "metadata": {},
   "source": [
    "We know that the venue impact factor is related to the no. of citations of all papers. We also know that the name of venues are written differently in different records & we know that these numbers might not be accurate. Thus we should not trust the impact factor."
   ]
  },
  {
   "cell_type": "markdown",
   "metadata": {},
   "source": [
    "#### I. Now repeat the calculation from item b., but restrict the calculation to venues with at least 10 publications. How does your histogram change? List the citation counts for all publications from the venue with the highest impact factor. How does the impact factor (mean number of citations) compare to the median number of citations?"
   ]
  },
  {
   "cell_type": "code",
   "execution_count": 30,
   "metadata": {},
   "outputs": [
    {
     "data": {
      "image/png": "[encoded data removed]",
      "text/plain": [
       "<matplotlib.figure.Figure at 0x17651110d30>"
      ]
     },
     "metadata": {},
     "output_type": "display_data"
    }
   ],
   "source": [
    "venue_impact = {}\n",
    "for ven in cite_venue_count.keys():   \n",
    "    venue_impact[ven] = 0    \n",
    "    if venue != 'None' and venues_pubs.get(ven) != None and venues_pubs[ven] > 10:\n",
    "        venue_impact[ven] = cite_venue_count[ven]/venues_pubs[ven]\n",
    "        \n",
    "plt.title('Histogram of Impact Factor')\n",
    "plt.hist(list(venue_impact.values()),bins=25,log= True)\n",
    "plt.show()"
   ]
  },
  {
   "cell_type": "markdown",
   "metadata": {},
   "source": [
    "#### J. Finally, construct a list of publications for each publication year. Use this list to plot the average number of references and average number of citations per publication as a function of time. Explain the differences you see in the trends."
   ]
  },
  {
   "cell_type": "code",
   "execution_count": 33,
   "metadata": {},
   "outputs": [],
   "source": [
    "import collections\n",
    "\n",
    "year_publication = {}\n",
    "with open(\"C:\\\\Unsupervised\\\\HW1\\AP_train.txt\",\"r\",newline = \"\",encoding=\"utf8\") as infile: \n",
    "    year = 0 \n",
    "    index = 0\n",
    "    for line in infile:\n",
    "        if line.startswith(\"#index\"):\n",
    "            index = int(line[7:])\n",
    "        elif line.startswith(\"#t\") and len(line) == 8:\n",
    "            year = int(line[3:])\n",
    "            if year_publication.get(year) == None:\n",
    "                year_publication[year] = {\"publications\":0,\"citations\":0,\"references\":0}\n",
    "                year_publication[year][\"publications\"] = 1\n",
    "                if cite.get(index)!= None:\n",
    "                    year_publication[year][\"citations\"] = cite.get(index)\n",
    "                if ref.get(index)!= None:\n",
    "                    year_publication[year][\"references\"] = ref.get(index)\n",
    "            else:\n",
    "                year_publication[year][\"publications\"] += 1\n",
    "                if cite.get(index) != None:\n",
    "                    year_publication[year][\"citations\"] += cite.get(index)\n",
    "                if ref.get(index) != None:\n",
    "                    year_publication[year][\"references\"] += ref.get(index)\n",
    "                    \n",
    "average_year = {}\n",
    "for year in year_publication.keys():\n",
    "    average_year[year] = {}\n",
    "    average_year[year][\"citations\"] = year_publication[year][\"citations\"]/year_publication[year][\"publications\"]\n",
    "    average_year[year][\"references\"] = year_publication[year][\"references\"]/year_publication[year][\"publications\"]\n",
    "    \n",
    "average_year = collections.OrderedDict(sorted(average_year.items()))\n",
    "\n"
   ]
  },
  {
   "cell_type": "code",
   "execution_count": 35,
   "metadata": {},
   "outputs": [
    {
     "data": {
      "image/png": "[encoded data removed]",
      "text/plain": [
       "<matplotlib.figure.Figure at 0x1766ef2a2e8>"
      ]
     },
     "metadata": {},
     "output_type": "display_data"
    }
   ],
   "source": [
    "#plotting \n",
    "x = list(average_year.keys())\n",
    "y1 = list([average_year[i][\"citations\"] for i in x])\n",
    "y2 = list([average_year[i][\"references\"] for i in x])\n",
    "\n",
    "fig, ax = plt.subplots()\n",
    "\n",
    "plt.plot( x, y1, label = \"Average No. of Citations\")\n",
    "plt.plot( x, y2,  label = \"Average No. of References\")\n",
    "legend = ax.legend(loc='upper right')\n",
    "plt.show()"
   ]
  },
  {
   "cell_type": "markdown",
   "metadata": {},
   "source": [
    "The average number of references per publication has been increasing each year, whereas the average number of citations increasead from 1950 to around 2004 and then has dropped."
   ]
  }
 ],
 "metadata": {
  "kernelspec": {
   "display_name": "Python 3",
   "language": "python",
   "name": "python3"
  },
  "language_info": {
   "codemirror_mode": {
    "name": "ipython",
    "version": 3
   },
   "file_extension": ".py",
   "mimetype": "text/x-python",
   "name": "python",
   "nbconvert_exporter": "python",
   "pygments_lexer": "ipython3",
   "version": "3.6.3"
  }
 },
 "nbformat": 4,
 "nbformat_minor": 2
}
